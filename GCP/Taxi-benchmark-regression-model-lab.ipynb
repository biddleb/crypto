{
 "cells": [
  {
   "cell_type": "markdown",
   "metadata": {},
   "source": [
    "<h1> Explore and create ML datasets </h1>\n",
    "\n",
    "In this notebook, we will explore data corresponding to taxi rides in New York City to build a Machine Learning model in support of a fare-estimation tool. The idea is to suggest a likely fare to taxi riders so that they are not surprised, and so that they can protest if the charge is much higher than expected.\n",
    "\n",
    "<div id=\"toc\"></div>\n",
    "\n",
    "Let's start off with the Python imports that we need."
   ]
  },
  {
   "cell_type": "code",
   "execution_count": 1,
   "metadata": {
    "collapsed": false
   },
   "outputs": [
    {
     "data": {
      "text/html": [
       "\n",
       "          <script src=\"/static/components/requirejs/require.js\"></script>\n",
       "          <script>\n",
       "            requirejs.config({\n",
       "              paths: {\n",
       "                base: '/static/base',\n",
       "              },\n",
       "            });\n",
       "          </script>\n",
       "          "
      ],
      "text/plain": [
       "<IPython.core.display.HTML object>"
      ]
     },
     "metadata": {},
     "output_type": "display_data"
    }
   ],
   "source": [
    "import datalab.bigquery as bq\n",
    "import seaborn as sns\n",
    "import pandas as pd\n",
    "import numpy as np\n",
    "import shutil"
   ]
  },
  {
   "cell_type": "code",
   "execution_count": 2,
   "metadata": {
    "collapsed": false
   },
   "outputs": [
    {
     "data": {
      "text/html": [
       "\n",
       "          <script src=\"/static/components/requirejs/require.js\"></script>\n",
       "          <script>\n",
       "            requirejs.config({\n",
       "              paths: {\n",
       "                base: '/static/base',\n",
       "              },\n",
       "            });\n",
       "          </script>\n",
       "          "
      ],
      "text/plain": [
       "<IPython.core.display.HTML object>"
      ]
     },
     "metadata": {},
     "output_type": "display_data"
    },
    {
     "data": {
      "application/javascript": [
       "$.getScript('https://kmahelona.github.io/ipython_notebook_goodies/ipython_notebook_toc.js')"
      ],
      "text/plain": [
       "<IPython.core.display.Javascript object>"
      ]
     },
     "metadata": {},
     "output_type": "display_data"
    }
   ],
   "source": [
    "%%javascript\n",
    "$.getScript('https://kmahelona.github.io/ipython_notebook_goodies/ipython_notebook_toc.js')"
   ]
  },
  {
   "cell_type": "markdown",
   "metadata": {},
   "source": [
    "<h3> Extract sample data from BigQuery </h3>\n",
    "\n",
    "The dataset that we will use is <a href=\"https://bigquery.cloud.google.com/table/nyc-tlc:yellow.trips\">a BigQuery public dataset</a>. Click on the link, and look at the column names. Switch to the Details tab to verify that the number of records is one billion, and then switch to the Preview tab to look at a few rows.\n",
    "\n",
    "Let's write a SQL query to pick up interesting fields from the dataset."
   ]
  },
  {
   "cell_type": "code",
   "execution_count": 3,
   "metadata": {
    "collapsed": false
   },
   "outputs": [
    {
     "data": {
      "text/html": [
       "\n",
       "          <script src=\"/static/components/requirejs/require.js\"></script>\n",
       "          <script>\n",
       "            requirejs.config({\n",
       "              paths: {\n",
       "                base: '/static/base',\n",
       "              },\n",
       "            });\n",
       "          </script>\n",
       "          "
      ],
      "text/plain": [
       "<IPython.core.display.HTML object>"
      ]
     },
     "metadata": {},
     "output_type": "display_data"
    }
   ],
   "source": [
    "%sql --module afewrecords\n",
    "SELECT pickup_datetime, pickup_longitude, pickup_latitude, dropoff_longitude,\n",
    "dropoff_latitude, passenger_count, trip_distance, tolls_amount, \n",
    "fare_amount, total_amount FROM [nyc-tlc:yellow.trips] LIMIT 10"
   ]
  },
  {
   "cell_type": "code",
   "execution_count": 4,
   "metadata": {
    "collapsed": false
   },
   "outputs": [
    {
     "data": {
      "text/html": [
       "\n",
       "          <script src=\"/static/components/requirejs/require.js\"></script>\n",
       "          <script>\n",
       "            requirejs.config({\n",
       "              paths: {\n",
       "                base: '/static/base',\n",
       "              },\n",
       "            });\n",
       "          </script>\n",
       "          "
      ],
      "text/plain": [
       "<IPython.core.display.HTML object>"
      ]
     },
     "metadata": {},
     "output_type": "display_data"
    },
    {
     "data": {
      "text/html": [
       "<div>\n",
       "<table border=\"1\" class=\"dataframe\">\n",
       "  <thead>\n",
       "    <tr style=\"text-align: right;\">\n",
       "      <th></th>\n",
       "      <th>pickup_datetime</th>\n",
       "      <th>pickup_longitude</th>\n",
       "      <th>pickup_latitude</th>\n",
       "      <th>dropoff_longitude</th>\n",
       "      <th>dropoff_latitude</th>\n",
       "      <th>passenger_count</th>\n",
       "      <th>trip_distance</th>\n",
       "      <th>tolls_amount</th>\n",
       "      <th>fare_amount</th>\n",
       "      <th>total_amount</th>\n",
       "    </tr>\n",
       "  </thead>\n",
       "  <tbody>\n",
       "    <tr>\n",
       "      <th>0</th>\n",
       "      <td>2010-02-05 01:20:05</td>\n",
       "      <td>-73.979935</td>\n",
       "      <td>40.761105</td>\n",
       "      <td>-73.966230</td>\n",
       "      <td>40.689831</td>\n",
       "      <td>1</td>\n",
       "      <td>84.8</td>\n",
       "      <td>0.0</td>\n",
       "      <td>0.0</td>\n",
       "      <td>0.0</td>\n",
       "    </tr>\n",
       "    <tr>\n",
       "      <th>1</th>\n",
       "      <td>2010-03-07 00:58:45</td>\n",
       "      <td>-74.001449</td>\n",
       "      <td>40.726071</td>\n",
       "      <td>-73.980448</td>\n",
       "      <td>40.744253</td>\n",
       "      <td>2</td>\n",
       "      <td>2.2</td>\n",
       "      <td>0.0</td>\n",
       "      <td>0.0</td>\n",
       "      <td>0.0</td>\n",
       "    </tr>\n",
       "    <tr>\n",
       "      <th>2</th>\n",
       "      <td>2010-03-05 20:17:51</td>\n",
       "      <td>-73.863740</td>\n",
       "      <td>40.734245</td>\n",
       "      <td>-73.991364</td>\n",
       "      <td>40.750096</td>\n",
       "      <td>1</td>\n",
       "      <td>7.6</td>\n",
       "      <td>0.0</td>\n",
       "      <td>0.0</td>\n",
       "      <td>0.0</td>\n",
       "    </tr>\n",
       "    <tr>\n",
       "      <th>3</th>\n",
       "      <td>2010-03-29 08:12:38</td>\n",
       "      <td>-73.993394</td>\n",
       "      <td>40.747158</td>\n",
       "      <td>-73.790150</td>\n",
       "      <td>40.646883</td>\n",
       "      <td>1</td>\n",
       "      <td>171.1</td>\n",
       "      <td>0.0</td>\n",
       "      <td>0.0</td>\n",
       "      <td>0.0</td>\n",
       "    </tr>\n",
       "    <tr>\n",
       "      <th>4</th>\n",
       "      <td>2015-02-22 22:40:31</td>\n",
       "      <td>-73.937363</td>\n",
       "      <td>40.758041</td>\n",
       "      <td>-73.937386</td>\n",
       "      <td>40.758060</td>\n",
       "      <td>1</td>\n",
       "      <td>0.0</td>\n",
       "      <td>0.0</td>\n",
       "      <td>0.0</td>\n",
       "      <td>0.0</td>\n",
       "    </tr>\n",
       "    <tr>\n",
       "      <th>5</th>\n",
       "      <td>2010-03-14 05:27:23</td>\n",
       "      <td>-73.993982</td>\n",
       "      <td>40.770577</td>\n",
       "      <td>-73.997214</td>\n",
       "      <td>40.762466</td>\n",
       "      <td>1</td>\n",
       "      <td>12.4</td>\n",
       "      <td>0.0</td>\n",
       "      <td>0.0</td>\n",
       "      <td>0.0</td>\n",
       "    </tr>\n",
       "    <tr>\n",
       "      <th>6</th>\n",
       "      <td>2010-02-04 22:41:28</td>\n",
       "      <td>-73.991934</td>\n",
       "      <td>40.730339</td>\n",
       "      <td>-73.991934</td>\n",
       "      <td>40.730339</td>\n",
       "      <td>1</td>\n",
       "      <td>0.0</td>\n",
       "      <td>0.0</td>\n",
       "      <td>0.0</td>\n",
       "      <td>0.0</td>\n",
       "    </tr>\n",
       "    <tr>\n",
       "      <th>7</th>\n",
       "      <td>2013-08-15 03:49:56</td>\n",
       "      <td>-73.937020</td>\n",
       "      <td>40.620175</td>\n",
       "      <td>-73.936452</td>\n",
       "      <td>40.620522</td>\n",
       "      <td>1</td>\n",
       "      <td>0.0</td>\n",
       "      <td>0.0</td>\n",
       "      <td>0.0</td>\n",
       "      <td>0.0</td>\n",
       "    </tr>\n",
       "    <tr>\n",
       "      <th>8</th>\n",
       "      <td>2010-03-02 14:45:23</td>\n",
       "      <td>-73.973403</td>\n",
       "      <td>40.754323</td>\n",
       "      <td>-73.806456</td>\n",
       "      <td>40.652384</td>\n",
       "      <td>1</td>\n",
       "      <td>14.9</td>\n",
       "      <td>0.0</td>\n",
       "      <td>0.0</td>\n",
       "      <td>0.0</td>\n",
       "    </tr>\n",
       "    <tr>\n",
       "      <th>9</th>\n",
       "      <td>2010-03-11 01:24:14</td>\n",
       "      <td>-73.990386</td>\n",
       "      <td>40.757301</td>\n",
       "      <td>-74.006484</td>\n",
       "      <td>40.782452</td>\n",
       "      <td>1</td>\n",
       "      <td>46.4</td>\n",
       "      <td>6.0</td>\n",
       "      <td>0.0</td>\n",
       "      <td>6.0</td>\n",
       "    </tr>\n",
       "  </tbody>\n",
       "</table>\n",
       "</div>"
      ],
      "text/plain": [
       "      pickup_datetime  pickup_longitude  pickup_latitude  dropoff_longitude  \\\n",
       "0 2010-02-05 01:20:05        -73.979935        40.761105         -73.966230   \n",
       "1 2010-03-07 00:58:45        -74.001449        40.726071         -73.980448   \n",
       "2 2010-03-05 20:17:51        -73.863740        40.734245         -73.991364   \n",
       "3 2010-03-29 08:12:38        -73.993394        40.747158         -73.790150   \n",
       "4 2015-02-22 22:40:31        -73.937363        40.758041         -73.937386   \n",
       "5 2010-03-14 05:27:23        -73.993982        40.770577         -73.997214   \n",
       "6 2010-02-04 22:41:28        -73.991934        40.730339         -73.991934   \n",
       "7 2013-08-15 03:49:56        -73.937020        40.620175         -73.936452   \n",
       "8 2010-03-02 14:45:23        -73.973403        40.754323         -73.806456   \n",
       "9 2010-03-11 01:24:14        -73.990386        40.757301         -74.006484   \n",
       "\n",
       "   dropoff_latitude  passenger_count  trip_distance  tolls_amount  \\\n",
       "0         40.689831                1           84.8           0.0   \n",
       "1         40.744253                2            2.2           0.0   \n",
       "2         40.750096                1            7.6           0.0   \n",
       "3         40.646883                1          171.1           0.0   \n",
       "4         40.758060                1            0.0           0.0   \n",
       "5         40.762466                1           12.4           0.0   \n",
       "6         40.730339                1            0.0           0.0   \n",
       "7         40.620522                1            0.0           0.0   \n",
       "8         40.652384                1           14.9           0.0   \n",
       "9         40.782452                1           46.4           6.0   \n",
       "\n",
       "   fare_amount  total_amount  \n",
       "0          0.0           0.0  \n",
       "1          0.0           0.0  \n",
       "2          0.0           0.0  \n",
       "3          0.0           0.0  \n",
       "4          0.0           0.0  \n",
       "5          0.0           0.0  \n",
       "6          0.0           0.0  \n",
       "7          0.0           0.0  \n",
       "8          0.0           0.0  \n",
       "9          0.0           6.0  "
      ]
     },
     "execution_count": 4,
     "metadata": {},
     "output_type": "execute_result"
    }
   ],
   "source": [
    "trips = bq.Query(afewrecords).to_dataframe()\n",
    "trips"
   ]
  },
  {
   "cell_type": "markdown",
   "metadata": {},
   "source": [
    "Let's increase the number of records so that we can do some neat graphs.  There is no guarantee about the order in which records are returned, and so no guarantee about which records get returned if we simply increase the LIMIT. To properly sample the dataset, let's use the HASH of the pickup time and return 1 in 100,000 records -- because there are 1 billion records in the data, we should get back approximately 10,000 records if we do this."
   ]
  },
  {
   "cell_type": "code",
   "execution_count": 5,
   "metadata": {
    "collapsed": false
   },
   "outputs": [
    {
     "data": {
      "text/html": [
       "\n",
       "          <script src=\"/static/components/requirejs/require.js\"></script>\n",
       "          <script>\n",
       "            requirejs.config({\n",
       "              paths: {\n",
       "                base: '/static/base',\n",
       "              },\n",
       "            });\n",
       "          </script>\n",
       "          "
      ],
      "text/plain": [
       "<IPython.core.display.HTML object>"
      ]
     },
     "metadata": {},
     "output_type": "display_data"
    }
   ],
   "source": [
    "%sql --module afewrecords2\n",
    "SELECT\n",
    "  pickup_datetime,\n",
    "  pickup_longitude, pickup_latitude, \n",
    "  dropoff_longitude, dropoff_latitude,\n",
    "  passenger_count,\n",
    "  trip_distance,\n",
    "  tolls_amount,\n",
    "  fare_amount,\n",
    "  total_amount\n",
    "FROM\n",
    "  [nyc-tlc:yellow.trips]\n",
    "WHERE\n",
    "  ABS(HASH(pickup_datetime)) % $EVERY_N == 1"
   ]
  },
  {
   "cell_type": "code",
   "execution_count": 6,
   "metadata": {
    "collapsed": false
   },
   "outputs": [
    {
     "data": {
      "text/html": [
       "\n",
       "          <script src=\"/static/components/requirejs/require.js\"></script>\n",
       "          <script>\n",
       "            requirejs.config({\n",
       "              paths: {\n",
       "                base: '/static/base',\n",
       "              },\n",
       "            });\n",
       "          </script>\n",
       "          "
      ],
      "text/plain": [
       "<IPython.core.display.HTML object>"
      ]
     },
     "metadata": {},
     "output_type": "display_data"
    },
    {
     "data": {
      "text/html": [
       "<div>\n",
       "<table border=\"1\" class=\"dataframe\">\n",
       "  <thead>\n",
       "    <tr style=\"text-align: right;\">\n",
       "      <th></th>\n",
       "      <th>pickup_datetime</th>\n",
       "      <th>pickup_longitude</th>\n",
       "      <th>pickup_latitude</th>\n",
       "      <th>dropoff_longitude</th>\n",
       "      <th>dropoff_latitude</th>\n",
       "      <th>passenger_count</th>\n",
       "      <th>trip_distance</th>\n",
       "      <th>tolls_amount</th>\n",
       "      <th>fare_amount</th>\n",
       "      <th>total_amount</th>\n",
       "    </tr>\n",
       "  </thead>\n",
       "  <tbody>\n",
       "    <tr>\n",
       "      <th>0</th>\n",
       "      <td>2012-09-05 15:45:00</td>\n",
       "      <td>-74.005060</td>\n",
       "      <td>40.740822</td>\n",
       "      <td>-73.991710</td>\n",
       "      <td>40.740013</td>\n",
       "      <td>1</td>\n",
       "      <td>1.06</td>\n",
       "      <td>0.0</td>\n",
       "      <td>7.0</td>\n",
       "      <td>9.60</td>\n",
       "    </tr>\n",
       "    <tr>\n",
       "      <th>1</th>\n",
       "      <td>2014-07-20 02:20:38</td>\n",
       "      <td>-73.989582</td>\n",
       "      <td>40.720431</td>\n",
       "      <td>-74.004260</td>\n",
       "      <td>40.722064</td>\n",
       "      <td>4</td>\n",
       "      <td>1.40</td>\n",
       "      <td>0.0</td>\n",
       "      <td>8.0</td>\n",
       "      <td>9.00</td>\n",
       "    </tr>\n",
       "    <tr>\n",
       "      <th>2</th>\n",
       "      <td>2011-09-28 21:18:00</td>\n",
       "      <td>-73.999112</td>\n",
       "      <td>40.728132</td>\n",
       "      <td>-73.997970</td>\n",
       "      <td>40.729373</td>\n",
       "      <td>2</td>\n",
       "      <td>0.14</td>\n",
       "      <td>0.0</td>\n",
       "      <td>2.9</td>\n",
       "      <td>3.90</td>\n",
       "    </tr>\n",
       "    <tr>\n",
       "      <th>3</th>\n",
       "      <td>2012-08-07 15:57:00</td>\n",
       "      <td>-73.975525</td>\n",
       "      <td>40.749587</td>\n",
       "      <td>-73.982450</td>\n",
       "      <td>40.748455</td>\n",
       "      <td>1</td>\n",
       "      <td>1.11</td>\n",
       "      <td>0.0</td>\n",
       "      <td>7.3</td>\n",
       "      <td>9.26</td>\n",
       "    </tr>\n",
       "    <tr>\n",
       "      <th>4</th>\n",
       "      <td>2012-05-03 02:10:13</td>\n",
       "      <td>-73.978615</td>\n",
       "      <td>40.762481</td>\n",
       "      <td>-73.971330</td>\n",
       "      <td>40.761918</td>\n",
       "      <td>1</td>\n",
       "      <td>0.40</td>\n",
       "      <td>0.0</td>\n",
       "      <td>3.3</td>\n",
       "      <td>4.30</td>\n",
       "    </tr>\n",
       "    <tr>\n",
       "      <th>5</th>\n",
       "      <td>2011-08-22 15:55:00</td>\n",
       "      <td>-73.980255</td>\n",
       "      <td>40.734427</td>\n",
       "      <td>-73.976530</td>\n",
       "      <td>40.739457</td>\n",
       "      <td>1</td>\n",
       "      <td>0.40</td>\n",
       "      <td>0.0</td>\n",
       "      <td>3.3</td>\n",
       "      <td>3.80</td>\n",
       "    </tr>\n",
       "    <tr>\n",
       "      <th>6</th>\n",
       "      <td>2009-02-16 11:54:00</td>\n",
       "      <td>-74.001587</td>\n",
       "      <td>40.730930</td>\n",
       "      <td>-73.991095</td>\n",
       "      <td>40.736888</td>\n",
       "      <td>1</td>\n",
       "      <td>1.06</td>\n",
       "      <td>0.0</td>\n",
       "      <td>6.1</td>\n",
       "      <td>6.10</td>\n",
       "    </tr>\n",
       "    <tr>\n",
       "      <th>7</th>\n",
       "      <td>2011-01-07 15:16:00</td>\n",
       "      <td>-73.912302</td>\n",
       "      <td>40.634552</td>\n",
       "      <td>-73.912302</td>\n",
       "      <td>40.634552</td>\n",
       "      <td>1</td>\n",
       "      <td>0.72</td>\n",
       "      <td>0.0</td>\n",
       "      <td>4.5</td>\n",
       "      <td>5.00</td>\n",
       "    </tr>\n",
       "    <tr>\n",
       "      <th>8</th>\n",
       "      <td>2011-08-22 15:55:00</td>\n",
       "      <td>-73.955008</td>\n",
       "      <td>40.785930</td>\n",
       "      <td>-73.967737</td>\n",
       "      <td>40.798777</td>\n",
       "      <td>5</td>\n",
       "      <td>1.48</td>\n",
       "      <td>0.0</td>\n",
       "      <td>6.5</td>\n",
       "      <td>8.00</td>\n",
       "    </tr>\n",
       "    <tr>\n",
       "      <th>9</th>\n",
       "      <td>2014-01-02 15:00:36</td>\n",
       "      <td>-73.981458</td>\n",
       "      <td>40.767420</td>\n",
       "      <td>-73.974968</td>\n",
       "      <td>40.759205</td>\n",
       "      <td>1</td>\n",
       "      <td>0.80</td>\n",
       "      <td>0.0</td>\n",
       "      <td>7.5</td>\n",
       "      <td>8.00</td>\n",
       "    </tr>\n",
       "  </tbody>\n",
       "</table>\n",
       "</div>"
      ],
      "text/plain": [
       "      pickup_datetime  pickup_longitude  pickup_latitude  dropoff_longitude  \\\n",
       "0 2012-09-05 15:45:00        -74.005060        40.740822         -73.991710   \n",
       "1 2014-07-20 02:20:38        -73.989582        40.720431         -74.004260   \n",
       "2 2011-09-28 21:18:00        -73.999112        40.728132         -73.997970   \n",
       "3 2012-08-07 15:57:00        -73.975525        40.749587         -73.982450   \n",
       "4 2012-05-03 02:10:13        -73.978615        40.762481         -73.971330   \n",
       "5 2011-08-22 15:55:00        -73.980255        40.734427         -73.976530   \n",
       "6 2009-02-16 11:54:00        -74.001587        40.730930         -73.991095   \n",
       "7 2011-01-07 15:16:00        -73.912302        40.634552         -73.912302   \n",
       "8 2011-08-22 15:55:00        -73.955008        40.785930         -73.967737   \n",
       "9 2014-01-02 15:00:36        -73.981458        40.767420         -73.974968   \n",
       "\n",
       "   dropoff_latitude  passenger_count  trip_distance  tolls_amount  \\\n",
       "0         40.740013                1           1.06           0.0   \n",
       "1         40.722064                4           1.40           0.0   \n",
       "2         40.729373                2           0.14           0.0   \n",
       "3         40.748455                1           1.11           0.0   \n",
       "4         40.761918                1           0.40           0.0   \n",
       "5         40.739457                1           0.40           0.0   \n",
       "6         40.736888                1           1.06           0.0   \n",
       "7         40.634552                1           0.72           0.0   \n",
       "8         40.798777                5           1.48           0.0   \n",
       "9         40.759205                1           0.80           0.0   \n",
       "\n",
       "   fare_amount  total_amount  \n",
       "0          7.0          9.60  \n",
       "1          8.0          9.00  \n",
       "2          2.9          3.90  \n",
       "3          7.3          9.26  \n",
       "4          3.3          4.30  \n",
       "5          3.3          3.80  \n",
       "6          6.1          6.10  \n",
       "7          4.5          5.00  \n",
       "8          6.5          8.00  \n",
       "9          7.5          8.00  "
      ]
     },
     "execution_count": 6,
     "metadata": {},
     "output_type": "execute_result"
    }
   ],
   "source": [
    "trips = bq.Query(afewrecords2, EVERY_N=100000).to_dataframe()\n",
    "trips[:10]"
   ]
  },
  {
   "cell_type": "markdown",
   "metadata": {},
   "source": [
    "<h3> Exploring data </h3>\n",
    "\n",
    "Let's explore this dataset and clean it up as necessary. We'll use the Python Seaborn package to visualize graphs and Pandas to do the slicing and filtering."
   ]
  },
  {
   "cell_type": "code",
   "execution_count": 7,
   "metadata": {
    "collapsed": false
   },
   "outputs": [
    {
     "data": {
      "text/html": [
       "\n",
       "          <script src=\"/static/components/requirejs/require.js\"></script>\n",
       "          <script>\n",
       "            requirejs.config({\n",
       "              paths: {\n",
       "                base: '/static/base',\n",
       "              },\n",
       "            });\n",
       "          </script>\n",
       "          "
      ],
      "text/plain": [
       "<IPython.core.display.HTML object>"
      ]
     },
     "metadata": {},
     "output_type": "display_data"
    },
    {
     "data": {
      "image/png": "[encoded data removed]",
      "text/plain": [
       "<matplotlib.figure.Figure at 0x7f6d887c2d10>"
      ]
     },
     "metadata": {},
     "output_type": "display_data"
    }
   ],
   "source": [
    "ax = sns.regplot(x=\"trip_distance\", y=\"fare_amount\", ci=None, truncate=True, data=trips)"
   ]
  },
  {
   "cell_type": "markdown",
   "metadata": {},
   "source": [
    "Hmm ... do you see something wrong with the data that needs addressing?\n",
    "\n",
    "It appears that we have a lot of invalid data that is being coded as zero distance and some fare amounts that are definitely illegitimate. Let's remove them from our analysis. We can do this by modifying the BigQuery query to keep only trips longer than zero miles and fare amounts that are at least the minimum cab fare ($2.50).\n",
    "\n",
    "Note the extra WHERE clauses."
   ]
  },
  {
   "cell_type": "code",
   "execution_count": 8,
   "metadata": {
    "collapsed": false
   },
   "outputs": [
    {
     "data": {
      "text/html": [
       "\n",
       "          <script src=\"/static/components/requirejs/require.js\"></script>\n",
       "          <script>\n",
       "            requirejs.config({\n",
       "              paths: {\n",
       "                base: '/static/base',\n",
       "              },\n",
       "            });\n",
       "          </script>\n",
       "          "
      ],
      "text/plain": [
       "<IPython.core.display.HTML object>"
      ]
     },
     "metadata": {},
     "output_type": "display_data"
    }
   ],
   "source": [
    "%sql --module afewrecords3\n",
    "SELECT\n",
    "  pickup_datetime,\n",
    "  pickup_longitude, pickup_latitude, \n",
    "  dropoff_longitude, dropoff_latitude,\n",
    "  passenger_count,\n",
    "  trip_distance,\n",
    "  tolls_amount,\n",
    "  fare_amount,\n",
    "  total_amount\n",
    "FROM\n",
    "  [nyc-tlc:yellow.trips]\n",
    "WHERE\n",
    "  (ABS(HASH(pickup_datetime)) % $EVERY_N == 1 AND\n",
    "  trip_distance > 0 AND fare_amount >= 2.5)"
   ]
  },
  {
   "cell_type": "code",
   "execution_count": 9,
   "metadata": {
    "collapsed": false
   },
   "outputs": [
    {
     "data": {
      "text/html": [
       "\n",
       "          <script src=\"/static/components/requirejs/require.js\"></script>\n",
       "          <script>\n",
       "            requirejs.config({\n",
       "              paths: {\n",
       "                base: '/static/base',\n",
       "              },\n",
       "            });\n",
       "          </script>\n",
       "          "
      ],
      "text/plain": [
       "<IPython.core.display.HTML object>"
      ]
     },
     "metadata": {},
     "output_type": "display_data"
    },
    {
     "data": {
      "image/png": "[encoded data removed]",
      "text/plain": [
       "<matplotlib.figure.Figure at 0x7f6d8817e450>"
      ]
     },
     "metadata": {},
     "output_type": "display_data"
    }
   ],
   "source": [
    "trips = bq.Query(afewrecords3, EVERY_N=100000).to_dataframe()\n",
    "ax = sns.regplot(x=\"trip_distance\", y=\"fare_amount\", ci=None, truncate=True, data=trips)"
   ]
  },
  {
   "cell_type": "markdown",
   "metadata": {},
   "source": [
    "What's up with the streaks at \\$45 and \\$50?  Those are fixed-amount rides from JFK and La Guardia airports into anywhere in Manhattan, i.e. to be expected. Let's list the data to make sure the values look reasonable.\n",
    "\n",
    "Let's examine whether the toll amount is captured in the total amount."
   ]
  },
  {
   "cell_type": "code",
   "execution_count": 10,
   "metadata": {
    "collapsed": false
   },
   "outputs": [
    {
     "data": {
      "text/html": [
       "\n",
       "          <script src=\"/static/components/requirejs/require.js\"></script>\n",
       "          <script>\n",
       "            requirejs.config({\n",
       "              paths: {\n",
       "                base: '/static/base',\n",
       "              },\n",
       "            });\n",
       "          </script>\n",
       "          "
      ],
      "text/plain": [
       "<IPython.core.display.HTML object>"
      ]
     },
     "metadata": {},
     "output_type": "display_data"
    },
    {
     "data": {
      "text/html": [
       "<div>\n",
       "<table border=\"1\" class=\"dataframe\">\n",
       "  <thead>\n",
       "    <tr style=\"text-align: right;\">\n",
       "      <th></th>\n",
       "      <th>pickup_datetime</th>\n",
       "      <th>pickup_longitude</th>\n",
       "      <th>pickup_latitude</th>\n",
       "      <th>dropoff_longitude</th>\n",
       "      <th>dropoff_latitude</th>\n",
       "      <th>passenger_count</th>\n",
       "      <th>trip_distance</th>\n",
       "      <th>tolls_amount</th>\n",
       "      <th>fare_amount</th>\n",
       "      <th>total_amount</th>\n",
       "    </tr>\n",
       "  </thead>\n",
       "  <tbody>\n",
       "    <tr>\n",
       "      <th>112</th>\n",
       "      <td>2012-09-05 15:45:00</td>\n",
       "      <td>-73.776752</td>\n",
       "      <td>40.645120</td>\n",
       "      <td>-73.947410</td>\n",
       "      <td>40.776887</td>\n",
       "      <td>1</td>\n",
       "      <td>19.17</td>\n",
       "      <td>4.8</td>\n",
       "      <td>52.0</td>\n",
       "      <td>67.7</td>\n",
       "    </tr>\n",
       "    <tr>\n",
       "      <th>263</th>\n",
       "      <td>2012-09-05 15:45:00</td>\n",
       "      <td>-73.862842</td>\n",
       "      <td>40.769097</td>\n",
       "      <td>-73.864235</td>\n",
       "      <td>40.842857</td>\n",
       "      <td>1</td>\n",
       "      <td>11.47</td>\n",
       "      <td>4.8</td>\n",
       "      <td>32.5</td>\n",
       "      <td>37.8</td>\n",
       "    </tr>\n",
       "    <tr>\n",
       "      <th>335</th>\n",
       "      <td>2012-09-05 15:45:00</td>\n",
       "      <td>-73.873162</td>\n",
       "      <td>40.774097</td>\n",
       "      <td>-73.958280</td>\n",
       "      <td>40.760662</td>\n",
       "      <td>3</td>\n",
       "      <td>8.99</td>\n",
       "      <td>4.8</td>\n",
       "      <td>27.0</td>\n",
       "      <td>37.7</td>\n",
       "    </tr>\n",
       "    <tr>\n",
       "      <th>690</th>\n",
       "      <td>2012-09-05 15:45:00</td>\n",
       "      <td>-73.961938</td>\n",
       "      <td>40.773337</td>\n",
       "      <td>-73.865820</td>\n",
       "      <td>40.769607</td>\n",
       "      <td>1</td>\n",
       "      <td>10.95</td>\n",
       "      <td>4.8</td>\n",
       "      <td>32.0</td>\n",
       "      <td>46.9</td>\n",
       "    </tr>\n",
       "    <tr>\n",
       "      <th>4076</th>\n",
       "      <td>2012-09-05 15:45:00</td>\n",
       "      <td>-73.977698</td>\n",
       "      <td>40.765995</td>\n",
       "      <td>-74.179125</td>\n",
       "      <td>40.688890</td>\n",
       "      <td>1</td>\n",
       "      <td>17.72</td>\n",
       "      <td>9.5</td>\n",
       "      <td>68.5</td>\n",
       "      <td>78.0</td>\n",
       "    </tr>\n",
       "    <tr>\n",
       "      <th>4333</th>\n",
       "      <td>2012-09-05 15:45:00</td>\n",
       "      <td>-73.976282</td>\n",
       "      <td>40.751292</td>\n",
       "      <td>-73.872445</td>\n",
       "      <td>40.774442</td>\n",
       "      <td>1</td>\n",
       "      <td>8.66</td>\n",
       "      <td>4.8</td>\n",
       "      <td>24.5</td>\n",
       "      <td>33.1</td>\n",
       "    </tr>\n",
       "    <tr>\n",
       "      <th>5342</th>\n",
       "      <td>2012-09-05 15:45:00</td>\n",
       "      <td>-73.781918</td>\n",
       "      <td>40.644722</td>\n",
       "      <td>-73.985535</td>\n",
       "      <td>40.763272</td>\n",
       "      <td>1</td>\n",
       "      <td>18.64</td>\n",
       "      <td>4.8</td>\n",
       "      <td>52.0</td>\n",
       "      <td>57.3</td>\n",
       "    </tr>\n",
       "    <tr>\n",
       "      <th>5979</th>\n",
       "      <td>2012-09-05 15:45:00</td>\n",
       "      <td>-73.872895</td>\n",
       "      <td>40.774047</td>\n",
       "      <td>-73.986535</td>\n",
       "      <td>40.745427</td>\n",
       "      <td>6</td>\n",
       "      <td>8.57</td>\n",
       "      <td>4.8</td>\n",
       "      <td>28.0</td>\n",
       "      <td>38.9</td>\n",
       "    </tr>\n",
       "    <tr>\n",
       "      <th>6366</th>\n",
       "      <td>2012-09-05 15:45:00</td>\n",
       "      <td>-73.974837</td>\n",
       "      <td>40.758055</td>\n",
       "      <td>-73.885452</td>\n",
       "      <td>40.773130</td>\n",
       "      <td>1</td>\n",
       "      <td>11.77</td>\n",
       "      <td>4.8</td>\n",
       "      <td>34.0</td>\n",
       "      <td>46.1</td>\n",
       "    </tr>\n",
       "    <tr>\n",
       "      <th>6397</th>\n",
       "      <td>2012-09-05 15:45:00</td>\n",
       "      <td>-73.993160</td>\n",
       "      <td>40.758052</td>\n",
       "      <td>-73.937263</td>\n",
       "      <td>40.588857</td>\n",
       "      <td>3</td>\n",
       "      <td>19.32</td>\n",
       "      <td>4.8</td>\n",
       "      <td>53.0</td>\n",
       "      <td>68.9</td>\n",
       "    </tr>\n",
       "    <tr>\n",
       "      <th>9258</th>\n",
       "      <td>2012-09-05 15:45:00</td>\n",
       "      <td>-73.975092</td>\n",
       "      <td>40.755135</td>\n",
       "      <td>-73.864133</td>\n",
       "      <td>40.767993</td>\n",
       "      <td>3</td>\n",
       "      <td>11.25</td>\n",
       "      <td>4.8</td>\n",
       "      <td>32.5</td>\n",
       "      <td>37.8</td>\n",
       "    </tr>\n",
       "    <tr>\n",
       "      <th>10048</th>\n",
       "      <td>2012-09-05 15:45:00</td>\n",
       "      <td>-73.977048</td>\n",
       "      <td>40.759600</td>\n",
       "      <td>-73.870900</td>\n",
       "      <td>40.774055</td>\n",
       "      <td>1</td>\n",
       "      <td>9.54</td>\n",
       "      <td>4.8</td>\n",
       "      <td>28.0</td>\n",
       "      <td>40.3</td>\n",
       "    </tr>\n",
       "    <tr>\n",
       "      <th>10949</th>\n",
       "      <td>2012-09-05 15:45:00</td>\n",
       "      <td>-73.874480</td>\n",
       "      <td>40.774107</td>\n",
       "      <td>-73.984985</td>\n",
       "      <td>40.768672</td>\n",
       "      <td>1</td>\n",
       "      <td>11.44</td>\n",
       "      <td>4.8</td>\n",
       "      <td>38.0</td>\n",
       "      <td>43.3</td>\n",
       "    </tr>\n",
       "  </tbody>\n",
       "</table>\n",
       "</div>"
      ],
      "text/plain": [
       "          pickup_datetime  pickup_longitude  pickup_latitude  \\\n",
       "112   2012-09-05 15:45:00        -73.776752        40.645120   \n",
       "263   2012-09-05 15:45:00        -73.862842        40.769097   \n",
       "335   2012-09-05 15:45:00        -73.873162        40.774097   \n",
       "690   2012-09-05 15:45:00        -73.961938        40.773337   \n",
       "4076  2012-09-05 15:45:00        -73.977698        40.765995   \n",
       "4333  2012-09-05 15:45:00        -73.976282        40.751292   \n",
       "5342  2012-09-05 15:45:00        -73.781918        40.644722   \n",
       "5979  2012-09-05 15:45:00        -73.872895        40.774047   \n",
       "6366  2012-09-05 15:45:00        -73.974837        40.758055   \n",
       "6397  2012-09-05 15:45:00        -73.993160        40.758052   \n",
       "9258  2012-09-05 15:45:00        -73.975092        40.755135   \n",
       "10048 2012-09-05 15:45:00        -73.977048        40.759600   \n",
       "10949 2012-09-05 15:45:00        -73.874480        40.774107   \n",
       "\n",
       "       dropoff_longitude  dropoff_latitude  passenger_count  trip_distance  \\\n",
       "112           -73.947410         40.776887                1          19.17   \n",
       "263           -73.864235         40.842857                1          11.47   \n",
       "335           -73.958280         40.760662                3           8.99   \n",
       "690           -73.865820         40.769607                1          10.95   \n",
       "4076          -74.179125         40.688890                1          17.72   \n",
       "4333          -73.872445         40.774442                1           8.66   \n",
       "5342          -73.985535         40.763272                1          18.64   \n",
       "5979          -73.986535         40.745427                6           8.57   \n",
       "6366          -73.885452         40.773130                1          11.77   \n",
       "6397          -73.937263         40.588857                3          19.32   \n",
       "9258          -73.864133         40.767993                3          11.25   \n",
       "10048         -73.870900         40.774055                1           9.54   \n",
       "10949         -73.984985         40.768672                1          11.44   \n",
       "\n",
       "       tolls_amount  fare_amount  total_amount  \n",
       "112             4.8         52.0          67.7  \n",
       "263             4.8         32.5          37.8  \n",
       "335             4.8         27.0          37.7  \n",
       "690             4.8         32.0          46.9  \n",
       "4076            9.5         68.5          78.0  \n",
       "4333            4.8         24.5          33.1  \n",
       "5342            4.8         52.0          57.3  \n",
       "5979            4.8         28.0          38.9  \n",
       "6366            4.8         34.0          46.1  \n",
       "6397            4.8         53.0          68.9  \n",
       "9258            4.8         32.5          37.8  \n",
       "10048           4.8         28.0          40.3  \n",
       "10949           4.8         38.0          43.3  "
      ]
     },
     "execution_count": 10,
     "metadata": {},
     "output_type": "execute_result"
    }
   ],
   "source": [
    "tollrides = trips[trips['tolls_amount'] > 0]\n",
    "tollrides[tollrides['pickup_datetime'] == '2012-09-05 15:45:00']"
   ]
  },
  {
   "cell_type": "markdown",
   "metadata": {},
   "source": [
    "Looking a few samples above, it should be clear that the total amount reflects fare amount, toll and tip somewhat arbitrarily -- this is because when customers pay cash, the tip is not known.  So, we'll use the sum of fare_amount + tolls_amount as what needs to be predicted.  Tips are discretionary and do not have to be included in our fare estimation tool.\n",
    "\n",
    "Let's also look at the distribution of values within the columns."
   ]
  },
  {
   "cell_type": "code",
   "execution_count": 11,
   "metadata": {
    "collapsed": false
   },
   "outputs": [
    {
     "data": {
      "text/html": [
       "\n",
       "          <script src=\"/static/components/requirejs/require.js\"></script>\n",
       "          <script>\n",
       "            requirejs.config({\n",
       "              paths: {\n",
       "                base: '/static/base',\n",
       "              },\n",
       "            });\n",
       "          </script>\n",
       "          "
      ],
      "text/plain": [
       "<IPython.core.display.HTML object>"
      ]
     },
     "metadata": {},
     "output_type": "display_data"
    },
    {
     "data": {
      "text/html": [
       "<div>\n",
       "<table border=\"1\" class=\"dataframe\">\n",
       "  <thead>\n",
       "    <tr style=\"text-align: right;\">\n",
       "      <th></th>\n",
       "      <th>pickup_longitude</th>\n",
       "      <th>pickup_latitude</th>\n",
       "      <th>dropoff_longitude</th>\n",
       "      <th>dropoff_latitude</th>\n",
       "      <th>passenger_count</th>\n",
       "      <th>trip_distance</th>\n",
       "      <th>tolls_amount</th>\n",
       "      <th>fare_amount</th>\n",
       "      <th>total_amount</th>\n",
       "    </tr>\n",
       "  </thead>\n",
       "  <tbody>\n",
       "    <tr>\n",
       "      <th>count</th>\n",
       "      <td>11400.000000</td>\n",
       "      <td>11400.000000</td>\n",
       "      <td>11400.000000</td>\n",
       "      <td>11400.000000</td>\n",
       "      <td>11400.000000</td>\n",
       "      <td>11400.000000</td>\n",
       "      <td>11400.000000</td>\n",
       "      <td>11400.00000</td>\n",
       "      <td>11400.000000</td>\n",
       "    </tr>\n",
       "    <tr>\n",
       "      <th>mean</th>\n",
       "      <td>-72.527656</td>\n",
       "      <td>39.618013</td>\n",
       "      <td>-72.404513</td>\n",
       "      <td>39.868820</td>\n",
       "      <td>1.724298</td>\n",
       "      <td>2.838210</td>\n",
       "      <td>0.225352</td>\n",
       "      <td>11.00331</td>\n",
       "      <td>13.051914</td>\n",
       "    </tr>\n",
       "    <tr>\n",
       "      <th>std</th>\n",
       "      <td>18.541663</td>\n",
       "      <td>28.118268</td>\n",
       "      <td>11.567656</td>\n",
       "      <td>7.355304</td>\n",
       "      <td>1.345698</td>\n",
       "      <td>3.268861</td>\n",
       "      <td>1.103000</td>\n",
       "      <td>8.66286</td>\n",
       "      <td>10.482479</td>\n",
       "    </tr>\n",
       "    <tr>\n",
       "      <th>min</th>\n",
       "      <td>-1687.399757</td>\n",
       "      <td>-2895.273900</td>\n",
       "      <td>-74.417107</td>\n",
       "      <td>-444.385228</td>\n",
       "      <td>0.000000</td>\n",
       "      <td>0.010000</td>\n",
       "      <td>0.000000</td>\n",
       "      <td>2.50000</td>\n",
       "      <td>2.500000</td>\n",
       "    </tr>\n",
       "    <tr>\n",
       "      <th>25%</th>\n",
       "      <td>-73.992114</td>\n",
       "      <td>40.735475</td>\n",
       "      <td>-73.991601</td>\n",
       "      <td>40.733683</td>\n",
       "      <td>1.000000</td>\n",
       "      <td>1.010000</td>\n",
       "      <td>0.000000</td>\n",
       "      <td>6.00000</td>\n",
       "      <td>7.100000</td>\n",
       "    </tr>\n",
       "    <tr>\n",
       "      <th>50%</th>\n",
       "      <td>-73.981698</td>\n",
       "      <td>40.753039</td>\n",
       "      <td>-73.980396</td>\n",
       "      <td>40.753262</td>\n",
       "      <td>1.000000</td>\n",
       "      <td>1.740000</td>\n",
       "      <td>0.000000</td>\n",
       "      <td>8.40000</td>\n",
       "      <td>9.880000</td>\n",
       "    </tr>\n",
       "    <tr>\n",
       "      <th>75%</th>\n",
       "      <td>-73.966769</td>\n",
       "      <td>40.767687</td>\n",
       "      <td>-73.964285</td>\n",
       "      <td>40.768254</td>\n",
       "      <td>2.000000</td>\n",
       "      <td>3.160000</td>\n",
       "      <td>0.000000</td>\n",
       "      <td>12.50000</td>\n",
       "      <td>14.500000</td>\n",
       "    </tr>\n",
       "    <tr>\n",
       "      <th>max</th>\n",
       "      <td>0.009137</td>\n",
       "      <td>41.366138</td>\n",
       "      <td>443.321210</td>\n",
       "      <td>41.366138</td>\n",
       "      <td>6.000000</td>\n",
       "      <td>30.600000</td>\n",
       "      <td>19.500000</td>\n",
       "      <td>125.55000</td>\n",
       "      <td>149.630000</td>\n",
       "    </tr>\n",
       "  </tbody>\n",
       "</table>\n",
       "</div>"
      ],
      "text/plain": [
       "       pickup_longitude  pickup_latitude  dropoff_longitude  dropoff_latitude  \\\n",
       "count      11400.000000     11400.000000       11400.000000      11400.000000   \n",
       "mean         -72.527656        39.618013         -72.404513         39.868820   \n",
       "std           18.541663        28.118268          11.567656          7.355304   \n",
       "min        -1687.399757     -2895.273900         -74.417107       -444.385228   \n",
       "25%          -73.992114        40.735475         -73.991601         40.733683   \n",
       "50%          -73.981698        40.753039         -73.980396         40.753262   \n",
       "75%          -73.966769        40.767687         -73.964285         40.768254   \n",
       "max            0.009137        41.366138         443.321210         41.366138   \n",
       "\n",
       "       passenger_count  trip_distance  tolls_amount  fare_amount  total_amount  \n",
       "count     11400.000000   11400.000000  11400.000000  11400.00000  11400.000000  \n",
       "mean          1.724298       2.838210      0.225352     11.00331     13.051914  \n",
       "std           1.345698       3.268861      1.103000      8.66286     10.482479  \n",
       "min           0.000000       0.010000      0.000000      2.50000      2.500000  \n",
       "25%           1.000000       1.010000      0.000000      6.00000      7.100000  \n",
       "50%           1.000000       1.740000      0.000000      8.40000      9.880000  \n",
       "75%           2.000000       3.160000      0.000000     12.50000     14.500000  \n",
       "max           6.000000      30.600000     19.500000    125.55000    149.630000  "
      ]
     },
     "execution_count": 11,
     "metadata": {},
     "output_type": "execute_result"
    }
   ],
   "source": [
    "trips.describe()"
   ]
  },
  {
   "cell_type": "markdown",
   "metadata": {},
   "source": [
    "Hmm ... The min, max of longitude look strange.\n",
    "\n",
    "Finally, let's actually look at the start and end of a few of the trips."
   ]
  },
  {
   "cell_type": "code",
   "execution_count": 12,
   "metadata": {
    "collapsed": false
   },
   "outputs": [
    {
     "data": {
      "text/html": [
       "\n",
       "          <script src=\"/static/components/requirejs/require.js\"></script>\n",
       "          <script>\n",
       "            requirejs.config({\n",
       "              paths: {\n",
       "                base: '/static/base',\n",
       "              },\n",
       "            });\n",
       "          </script>\n",
       "          "
      ],
      "text/plain": [
       "<IPython.core.display.HTML object>"
      ]
     },
     "metadata": {},
     "output_type": "display_data"
    },
    {
     "data": {
      "image/png": "[encoded data removed]",
      "text/plain": [
       "<matplotlib.figure.Figure at 0x7f6d8875fad0>"
      ]
     },
     "metadata": {},
     "output_type": "display_data"
    }
   ],
   "source": [
    "def showrides(df, numlines):\n",
    "  import matplotlib.pyplot as plt\n",
    "  lats = []\n",
    "  lons = []\n",
    "  for iter, row in df[:numlines].iterrows():\n",
    "    lons.append(row['pickup_longitude'])\n",
    "    lons.append(row['dropoff_longitude'])\n",
    "    lons.append(None)\n",
    "    lats.append(row['pickup_latitude'])\n",
    "    lats.append(row['dropoff_latitude'])\n",
    "    lats.append(None)\n",
    "\n",
    "  sns.set_style(\"darkgrid\")\n",
    "  plt.plot(lons, lats)\n",
    "\n",
    "showrides(trips, 10)"
   ]
  },
  {
   "cell_type": "code",
   "execution_count": 13,
   "metadata": {
    "collapsed": false
   },
   "outputs": [
    {
     "data": {
      "text/html": [
       "\n",
       "          <script src=\"/static/components/requirejs/require.js\"></script>\n",
       "          <script>\n",
       "            requirejs.config({\n",
       "              paths: {\n",
       "                base: '/static/base',\n",
       "              },\n",
       "            });\n",
       "          </script>\n",
       "          "
      ],
      "text/plain": [
       "<IPython.core.display.HTML object>"
      ]
     },
     "metadata": {},
     "output_type": "display_data"
    },
    {
     "data": {
      "image/png": "[encoded data removed]",
      "text/plain": [
       "<matplotlib.figure.Figure at 0x7f6d8858c850>"
      ]
     },
     "metadata": {},
     "output_type": "display_data"
    }
   ],
   "source": [
    "showrides(tollrides, 10)"
   ]
  },
  {
   "cell_type": "markdown",
   "metadata": {},
   "source": [
    "As you'd expect, rides that involve a toll are longer than the typical ride."
   ]
  },
  {
   "cell_type": "markdown",
   "metadata": {},
   "source": [
    "<h3> Quality control and other preprocessing </h3>\n",
    "\n",
    "We need to some clean-up of the data:\n",
    "<ol>\n",
    "<li>New York city longitudes are around -74 and latitudes are around 41.</li>\n",
    "<li>We shouldn't have zero passengers.</li>\n",
    "<li>Clean up the total_amount column to reflect only fare_amount and tolls_amount, and then remove those two columns.</li>\n",
    "<li>Before the ride starts, we'll know the pickup and dropoff locations, but not the trip distance (that depends on the route taken), so remove it from the ML dataset</li>\n",
    "<li>Discard the timestamp</li>\n",
    "</ol>\n",
    "\n",
    "We could do preprocessing in BigQuery, similar to how we removed the zero-distance rides, but just to show you another option, let's do this in Python.  In production, we'll have to carry out the same preprocessing on the real-time input data. \n",
    "\n",
    "This sort of preprocessing of input data is quite common in ML, especially if the quality-control is dynamic."
   ]
  },
  {
   "cell_type": "code",
   "execution_count": 14,
   "metadata": {
    "collapsed": false
   },
   "outputs": [
    {
     "data": {
      "text/html": [
       "\n",
       "          <script src=\"/static/components/requirejs/require.js\"></script>\n",
       "          <script>\n",
       "            requirejs.config({\n",
       "              paths: {\n",
       "                base: '/static/base',\n",
       "              },\n",
       "            });\n",
       "          </script>\n",
       "          "
      ],
      "text/plain": [
       "<IPython.core.display.HTML object>"
      ]
     },
     "metadata": {},
     "output_type": "display_data"
    },
    {
     "data": {
      "text/html": [
       "<div>\n",
       "<table border=\"1\" class=\"dataframe\">\n",
       "  <thead>\n",
       "    <tr style=\"text-align: right;\">\n",
       "      <th></th>\n",
       "      <th>pickup_longitude</th>\n",
       "      <th>pickup_latitude</th>\n",
       "      <th>dropoff_longitude</th>\n",
       "      <th>dropoff_latitude</th>\n",
       "      <th>passenger_count</th>\n",
       "      <th>fare_amount</th>\n",
       "    </tr>\n",
       "  </thead>\n",
       "  <tbody>\n",
       "    <tr>\n",
       "      <th>count</th>\n",
       "      <td>11101.000000</td>\n",
       "      <td>11101.000000</td>\n",
       "      <td>11101.000000</td>\n",
       "      <td>11101.000000</td>\n",
       "      <td>11101.000000</td>\n",
       "      <td>11101.000000</td>\n",
       "    </tr>\n",
       "    <tr>\n",
       "      <th>mean</th>\n",
       "      <td>-73.975294</td>\n",
       "      <td>40.751359</td>\n",
       "      <td>-73.974711</td>\n",
       "      <td>40.751343</td>\n",
       "      <td>1.730925</td>\n",
       "      <td>11.231066</td>\n",
       "    </tr>\n",
       "    <tr>\n",
       "      <th>std</th>\n",
       "      <td>0.038610</td>\n",
       "      <td>0.029801</td>\n",
       "      <td>0.038460</td>\n",
       "      <td>0.034012</td>\n",
       "      <td>1.343629</td>\n",
       "      <td>9.361325</td>\n",
       "    </tr>\n",
       "    <tr>\n",
       "      <th>min</th>\n",
       "      <td>-74.417107</td>\n",
       "      <td>40.277250</td>\n",
       "      <td>-74.417107</td>\n",
       "      <td>40.303627</td>\n",
       "      <td>1.000000</td>\n",
       "      <td>2.500000</td>\n",
       "    </tr>\n",
       "    <tr>\n",
       "      <th>25%</th>\n",
       "      <td>-73.992337</td>\n",
       "      <td>40.737100</td>\n",
       "      <td>-73.991878</td>\n",
       "      <td>40.735405</td>\n",
       "      <td>1.000000</td>\n",
       "      <td>6.000000</td>\n",
       "    </tr>\n",
       "    <tr>\n",
       "      <th>50%</th>\n",
       "      <td>-73.982062</td>\n",
       "      <td>40.753875</td>\n",
       "      <td>-73.980857</td>\n",
       "      <td>40.754000</td>\n",
       "      <td>1.000000</td>\n",
       "      <td>8.500000</td>\n",
       "    </tr>\n",
       "    <tr>\n",
       "      <th>75%</th>\n",
       "      <td>-73.968307</td>\n",
       "      <td>40.768101</td>\n",
       "      <td>-73.966165</td>\n",
       "      <td>40.768616</td>\n",
       "      <td>2.000000</td>\n",
       "      <td>12.500000</td>\n",
       "    </tr>\n",
       "    <tr>\n",
       "      <th>max</th>\n",
       "      <td>-73.137393</td>\n",
       "      <td>41.366138</td>\n",
       "      <td>-73.137393</td>\n",
       "      <td>41.366138</td>\n",
       "      <td>6.000000</td>\n",
       "      <td>130.120000</td>\n",
       "    </tr>\n",
       "  </tbody>\n",
       "</table>\n",
       "</div>"
      ],
      "text/plain": [
       "       pickup_longitude  pickup_latitude  dropoff_longitude  dropoff_latitude  \\\n",
       "count      11101.000000     11101.000000       11101.000000      11101.000000   \n",
       "mean         -73.975294        40.751359         -73.974711         40.751343   \n",
       "std            0.038610         0.029801           0.038460          0.034012   \n",
       "min          -74.417107        40.277250         -74.417107         40.303627   \n",
       "25%          -73.992337        40.737100         -73.991878         40.735405   \n",
       "50%          -73.982062        40.753875         -73.980857         40.754000   \n",
       "75%          -73.968307        40.768101         -73.966165         40.768616   \n",
       "max          -73.137393        41.366138         -73.137393         41.366138   \n",
       "\n",
       "       passenger_count   fare_amount  \n",
       "count     11101.000000  11101.000000  \n",
       "mean          1.730925     11.231066  \n",
       "std           1.343629      9.361325  \n",
       "min           1.000000      2.500000  \n",
       "25%           1.000000      6.000000  \n",
       "50%           1.000000      8.500000  \n",
       "75%           2.000000     12.500000  \n",
       "max           6.000000    130.120000  "
      ]
     },
     "execution_count": 14,
     "metadata": {},
     "output_type": "execute_result"
    }
   ],
   "source": [
    "def preprocess(trips_in):\n",
    "  trips = trips_in.copy(deep=True)\n",
    "  trips.fare_amount = trips.fare_amount + trips.tolls_amount\n",
    "  del trips['tolls_amount']\n",
    "  del trips['total_amount']\n",
    "  del trips['trip_distance']\n",
    "  del trips['pickup_datetime']\n",
    "  qc = np.all([\\\n",
    "             trips['pickup_longitude'] > -78, \\\n",
    "             trips['pickup_longitude'] < -70, \\\n",
    "             trips['dropoff_longitude'] > -78, \\\n",
    "             trips['dropoff_longitude'] < -70, \\\n",
    "             trips['pickup_latitude'] > 37, \\\n",
    "             trips['pickup_latitude'] < 45, \\\n",
    "             trips['dropoff_latitude'] > 37, \\\n",
    "             trips['dropoff_latitude'] < 45, \\\n",
    "             trips['passenger_count'] > 0,\n",
    "            ], axis=0)\n",
    "  return trips[qc]\n",
    "\n",
    "tripsqc = preprocess(trips)\n",
    "tripsqc.describe()"
   ]
  },
  {
   "cell_type": "markdown",
   "metadata": {},
   "source": [
    "The quality control has removed about 300 rows (11400 - 11101) or about 3% of the data. This seems reasonable.\n",
    "\n",
    "Let's move on to creating the ML datasets.\n",
    "\n",
    "<h3> Create ML datasets </h3>\n",
    "\n",
    "Let's split the QCed data randomly into training, validation and test sets."
   ]
  },
  {
   "cell_type": "code",
   "execution_count": 15,
   "metadata": {
    "collapsed": false
   },
   "outputs": [
    {
     "data": {
      "text/html": [
       "\n",
       "          <script src=\"/static/components/requirejs/require.js\"></script>\n",
       "          <script>\n",
       "            requirejs.config({\n",
       "              paths: {\n",
       "                base: '/static/base',\n",
       "              },\n",
       "            });\n",
       "          </script>\n",
       "          "
      ],
      "text/plain": [
       "<IPython.core.display.HTML object>"
      ]
     },
     "metadata": {},
     "output_type": "display_data"
    }
   ],
   "source": [
    "shuffled = tripsqc.sample(frac=1)\n",
    "trainsize = int(len(shuffled['fare_amount']) * 0.70)\n",
    "validsize = int(len(shuffled['fare_amount']) * 0.15)\n",
    "\n",
    "df_train = shuffled.iloc[:trainsize, :]\n",
    "df_valid = shuffled.iloc[trainsize:(trainsize+validsize), :]\n",
    "df_test = shuffled.iloc[(trainsize+validsize):, :]"
   ]
  },
  {
   "cell_type": "code",
   "execution_count": 16,
   "metadata": {
    "collapsed": false
   },
   "outputs": [
    {
     "data": {
      "text/html": [
       "\n",
       "          <script src=\"/static/components/requirejs/require.js\"></script>\n",
       "          <script>\n",
       "            requirejs.config({\n",
       "              paths: {\n",
       "                base: '/static/base',\n",
       "              },\n",
       "            });\n",
       "          </script>\n",
       "          "
      ],
      "text/plain": [
       "<IPython.core.display.HTML object>"
      ]
     },
     "metadata": {},
     "output_type": "display_data"
    },
    {
     "data": {
      "text/html": [
       "<div>\n",
       "<table border=\"1\" class=\"dataframe\">\n",
       "  <thead>\n",
       "    <tr style=\"text-align: right;\">\n",
       "      <th></th>\n",
       "      <th>pickup_longitude</th>\n",
       "      <th>pickup_latitude</th>\n",
       "      <th>dropoff_longitude</th>\n",
       "      <th>dropoff_latitude</th>\n",
       "      <th>passenger_count</th>\n",
       "      <th>fare_amount</th>\n",
       "    </tr>\n",
       "  </thead>\n",
       "  <tbody>\n",
       "    <tr>\n",
       "      <th>count</th>\n",
       "      <td>7770.000000</td>\n",
       "      <td>7770.000000</td>\n",
       "      <td>7770.000000</td>\n",
       "      <td>7770.000000</td>\n",
       "      <td>7770.000000</td>\n",
       "      <td>7770.000000</td>\n",
       "    </tr>\n",
       "    <tr>\n",
       "      <th>mean</th>\n",
       "      <td>-73.974893</td>\n",
       "      <td>40.751613</td>\n",
       "      <td>-73.974924</td>\n",
       "      <td>40.751410</td>\n",
       "      <td>1.724324</td>\n",
       "      <td>11.297911</td>\n",
       "    </tr>\n",
       "    <tr>\n",
       "      <th>std</th>\n",
       "      <td>0.039235</td>\n",
       "      <td>0.030130</td>\n",
       "      <td>0.037327</td>\n",
       "      <td>0.033621</td>\n",
       "      <td>1.330528</td>\n",
       "      <td>9.519547</td>\n",
       "    </tr>\n",
       "    <tr>\n",
       "      <th>min</th>\n",
       "      <td>-74.271855</td>\n",
       "      <td>40.277250</td>\n",
       "      <td>-74.272135</td>\n",
       "      <td>40.303627</td>\n",
       "      <td>1.000000</td>\n",
       "      <td>2.500000</td>\n",
       "    </tr>\n",
       "    <tr>\n",
       "      <th>25%</th>\n",
       "      <td>-73.992357</td>\n",
       "      <td>40.737381</td>\n",
       "      <td>-73.991797</td>\n",
       "      <td>40.735568</td>\n",
       "      <td>1.000000</td>\n",
       "      <td>6.000000</td>\n",
       "    </tr>\n",
       "    <tr>\n",
       "      <th>50%</th>\n",
       "      <td>-73.982048</td>\n",
       "      <td>40.754027</td>\n",
       "      <td>-73.980882</td>\n",
       "      <td>40.754164</td>\n",
       "      <td>1.000000</td>\n",
       "      <td>8.400000</td>\n",
       "    </tr>\n",
       "    <tr>\n",
       "      <th>75%</th>\n",
       "      <td>-73.967851</td>\n",
       "      <td>40.768499</td>\n",
       "      <td>-73.966248</td>\n",
       "      <td>40.768737</td>\n",
       "      <td>2.000000</td>\n",
       "      <td>12.500000</td>\n",
       "    </tr>\n",
       "    <tr>\n",
       "      <th>max</th>\n",
       "      <td>-73.137393</td>\n",
       "      <td>41.366138</td>\n",
       "      <td>-73.137393</td>\n",
       "      <td>41.366138</td>\n",
       "      <td>6.000000</td>\n",
       "      <td>130.120000</td>\n",
       "    </tr>\n",
       "  </tbody>\n",
       "</table>\n",
       "</div>"
      ],
      "text/plain": [
       "       pickup_longitude  pickup_latitude  dropoff_longitude  dropoff_latitude  \\\n",
       "count       7770.000000      7770.000000        7770.000000       7770.000000   \n",
       "mean         -73.974893        40.751613         -73.974924         40.751410   \n",
       "std            0.039235         0.030130           0.037327          0.033621   \n",
       "min          -74.271855        40.277250         -74.272135         40.303627   \n",
       "25%          -73.992357        40.737381         -73.991797         40.735568   \n",
       "50%          -73.982048        40.754027         -73.980882         40.754164   \n",
       "75%          -73.967851        40.768499         -73.966248         40.768737   \n",
       "max          -73.137393        41.366138         -73.137393         41.366138   \n",
       "\n",
       "       passenger_count  fare_amount  \n",
       "count      7770.000000  7770.000000  \n",
       "mean          1.724324    11.297911  \n",
       "std           1.330528     9.519547  \n",
       "min           1.000000     2.500000  \n",
       "25%           1.000000     6.000000  \n",
       "50%           1.000000     8.400000  \n",
       "75%           2.000000    12.500000  \n",
       "max           6.000000   130.120000  "
      ]
     },
     "execution_count": 16,
     "metadata": {},
     "output_type": "execute_result"
    }
   ],
   "source": [
    "df_train.describe()"
   ]
  },
  {
   "cell_type": "code",
   "execution_count": 17,
   "metadata": {
    "collapsed": false
   },
   "outputs": [
    {
     "data": {
      "text/html": [
       "\n",
       "          <script src=\"/static/components/requirejs/require.js\"></script>\n",
       "          <script>\n",
       "            requirejs.config({\n",
       "              paths: {\n",
       "                base: '/static/base',\n",
       "              },\n",
       "            });\n",
       "          </script>\n",
       "          "
      ],
      "text/plain": [
       "<IPython.core.display.HTML object>"
      ]
     },
     "metadata": {},
     "output_type": "display_data"
    },
    {
     "data": {
      "text/html": [
       "<div>\n",
       "<table border=\"1\" class=\"dataframe\">\n",
       "  <thead>\n",
       "    <tr style=\"text-align: right;\">\n",
       "      <th></th>\n",
       "      <th>pickup_longitude</th>\n",
       "      <th>pickup_latitude</th>\n",
       "      <th>dropoff_longitude</th>\n",
       "      <th>dropoff_latitude</th>\n",
       "      <th>passenger_count</th>\n",
       "      <th>fare_amount</th>\n",
       "    </tr>\n",
       "  </thead>\n",
       "  <tbody>\n",
       "    <tr>\n",
       "      <th>count</th>\n",
       "      <td>1665.000000</td>\n",
       "      <td>1665.000000</td>\n",
       "      <td>1665.000000</td>\n",
       "      <td>1665.000000</td>\n",
       "      <td>1665.000000</td>\n",
       "      <td>1665.000000</td>\n",
       "    </tr>\n",
       "    <tr>\n",
       "      <th>mean</th>\n",
       "      <td>-73.975584</td>\n",
       "      <td>40.750796</td>\n",
       "      <td>-73.973714</td>\n",
       "      <td>40.751420</td>\n",
       "      <td>1.724324</td>\n",
       "      <td>11.077508</td>\n",
       "    </tr>\n",
       "    <tr>\n",
       "      <th>std</th>\n",
       "      <td>0.040573</td>\n",
       "      <td>0.030858</td>\n",
       "      <td>0.040738</td>\n",
       "      <td>0.034000</td>\n",
       "      <td>1.358835</td>\n",
       "      <td>9.016078</td>\n",
       "    </tr>\n",
       "    <tr>\n",
       "      <th>min</th>\n",
       "      <td>-74.164770</td>\n",
       "      <td>40.587237</td>\n",
       "      <td>-74.183834</td>\n",
       "      <td>40.577572</td>\n",
       "      <td>1.000000</td>\n",
       "      <td>2.500000</td>\n",
       "    </tr>\n",
       "    <tr>\n",
       "      <th>25%</th>\n",
       "      <td>-73.992092</td>\n",
       "      <td>40.736575</td>\n",
       "      <td>-73.992050</td>\n",
       "      <td>40.735793</td>\n",
       "      <td>1.000000</td>\n",
       "      <td>6.000000</td>\n",
       "    </tr>\n",
       "    <tr>\n",
       "      <th>50%</th>\n",
       "      <td>-73.982527</td>\n",
       "      <td>40.753427</td>\n",
       "      <td>-73.980368</td>\n",
       "      <td>40.753960</td>\n",
       "      <td>1.000000</td>\n",
       "      <td>8.100000</td>\n",
       "    </tr>\n",
       "    <tr>\n",
       "      <th>75%</th>\n",
       "      <td>-73.969848</td>\n",
       "      <td>40.766800</td>\n",
       "      <td>-73.965225</td>\n",
       "      <td>40.768505</td>\n",
       "      <td>2.000000</td>\n",
       "      <td>12.500000</td>\n",
       "    </tr>\n",
       "    <tr>\n",
       "      <th>max</th>\n",
       "      <td>-73.137393</td>\n",
       "      <td>41.366138</td>\n",
       "      <td>-73.137393</td>\n",
       "      <td>41.366138</td>\n",
       "      <td>6.000000</td>\n",
       "      <td>80.650000</td>\n",
       "    </tr>\n",
       "  </tbody>\n",
       "</table>\n",
       "</div>"
      ],
      "text/plain": [
       "       pickup_longitude  pickup_latitude  dropoff_longitude  dropoff_latitude  \\\n",
       "count       1665.000000      1665.000000        1665.000000       1665.000000   \n",
       "mean         -73.975584        40.750796         -73.973714         40.751420   \n",
       "std            0.040573         0.030858           0.040738          0.034000   \n",
       "min          -74.164770        40.587237         -74.183834         40.577572   \n",
       "25%          -73.992092        40.736575         -73.992050         40.735793   \n",
       "50%          -73.982527        40.753427         -73.980368         40.753960   \n",
       "75%          -73.969848        40.766800         -73.965225         40.768505   \n",
       "max          -73.137393        41.366138         -73.137393         41.366138   \n",
       "\n",
       "       passenger_count  fare_amount  \n",
       "count      1665.000000  1665.000000  \n",
       "mean          1.724324    11.077508  \n",
       "std           1.358835     9.016078  \n",
       "min           1.000000     2.500000  \n",
       "25%           1.000000     6.000000  \n",
       "50%           1.000000     8.100000  \n",
       "75%           2.000000    12.500000  \n",
       "max           6.000000    80.650000  "
      ]
     },
     "execution_count": 17,
     "metadata": {},
     "output_type": "execute_result"
    }
   ],
   "source": [
    "df_valid.describe()"
   ]
  },
  {
   "cell_type": "code",
   "execution_count": 18,
   "metadata": {
    "collapsed": false
   },
   "outputs": [
    {
     "data": {
      "text/html": [
       "\n",
       "          <script src=\"/static/components/requirejs/require.js\"></script>\n",
       "          <script>\n",
       "            requirejs.config({\n",
       "              paths: {\n",
       "                base: '/static/base',\n",
       "              },\n",
       "            });\n",
       "          </script>\n",
       "          "
      ],
      "text/plain": [
       "<IPython.core.display.HTML object>"
      ]
     },
     "metadata": {},
     "output_type": "display_data"
    },
    {
     "data": {
      "text/html": [
       "<div>\n",
       "<table border=\"1\" class=\"dataframe\">\n",
       "  <thead>\n",
       "    <tr style=\"text-align: right;\">\n",
       "      <th></th>\n",
       "      <th>pickup_longitude</th>\n",
       "      <th>pickup_latitude</th>\n",
       "      <th>dropoff_longitude</th>\n",
       "      <th>dropoff_latitude</th>\n",
       "      <th>passenger_count</th>\n",
       "      <th>fare_amount</th>\n",
       "    </tr>\n",
       "  </thead>\n",
       "  <tbody>\n",
       "    <tr>\n",
       "      <th>count</th>\n",
       "      <td>1666.000000</td>\n",
       "      <td>1666.000000</td>\n",
       "      <td>1666.000000</td>\n",
       "      <td>1666.000000</td>\n",
       "      <td>1666.000000</td>\n",
       "      <td>1666.000000</td>\n",
       "    </tr>\n",
       "    <tr>\n",
       "      <th>mean</th>\n",
       "      <td>-73.976875</td>\n",
       "      <td>40.750740</td>\n",
       "      <td>-73.974717</td>\n",
       "      <td>40.750957</td>\n",
       "      <td>1.768307</td>\n",
       "      <td>11.072773</td>\n",
       "    </tr>\n",
       "    <tr>\n",
       "      <th>std</th>\n",
       "      <td>0.033273</td>\n",
       "      <td>0.027059</td>\n",
       "      <td>0.041231</td>\n",
       "      <td>0.035805</td>\n",
       "      <td>1.388621</td>\n",
       "      <td>8.948282</td>\n",
       "    </tr>\n",
       "    <tr>\n",
       "      <th>min</th>\n",
       "      <td>-74.417107</td>\n",
       "      <td>40.513587</td>\n",
       "      <td>-74.417107</td>\n",
       "      <td>40.514650</td>\n",
       "      <td>1.000000</td>\n",
       "      <td>2.500000</td>\n",
       "    </tr>\n",
       "    <tr>\n",
       "      <th>25%</th>\n",
       "      <td>-73.992362</td>\n",
       "      <td>40.736056</td>\n",
       "      <td>-73.992229</td>\n",
       "      <td>40.735047</td>\n",
       "      <td>1.000000</td>\n",
       "      <td>6.100000</td>\n",
       "    </tr>\n",
       "    <tr>\n",
       "      <th>50%</th>\n",
       "      <td>-73.981823</td>\n",
       "      <td>40.753589</td>\n",
       "      <td>-73.981026</td>\n",
       "      <td>40.753331</td>\n",
       "      <td>1.000000</td>\n",
       "      <td>8.500000</td>\n",
       "    </tr>\n",
       "    <tr>\n",
       "      <th>75%</th>\n",
       "      <td>-73.969569</td>\n",
       "      <td>40.766793</td>\n",
       "      <td>-73.967073</td>\n",
       "      <td>40.768083</td>\n",
       "      <td>2.000000</td>\n",
       "      <td>12.500000</td>\n",
       "    </tr>\n",
       "    <tr>\n",
       "      <th>max</th>\n",
       "      <td>-73.727470</td>\n",
       "      <td>40.854824</td>\n",
       "      <td>-73.137393</td>\n",
       "      <td>41.366138</td>\n",
       "      <td>6.000000</td>\n",
       "      <td>82.250000</td>\n",
       "    </tr>\n",
       "  </tbody>\n",
       "</table>\n",
       "</div>"
      ],
      "text/plain": [
       "       pickup_longitude  pickup_latitude  dropoff_longitude  dropoff_latitude  \\\n",
       "count       1666.000000      1666.000000        1666.000000       1666.000000   \n",
       "mean         -73.976875        40.750740         -73.974717         40.750957   \n",
       "std            0.033273         0.027059           0.041231          0.035805   \n",
       "min          -74.417107        40.513587         -74.417107         40.514650   \n",
       "25%          -73.992362        40.736056         -73.992229         40.735047   \n",
       "50%          -73.981823        40.753589         -73.981026         40.753331   \n",
       "75%          -73.969569        40.766793         -73.967073         40.768083   \n",
       "max          -73.727470        40.854824         -73.137393         41.366138   \n",
       "\n",
       "       passenger_count  fare_amount  \n",
       "count      1666.000000  1666.000000  \n",
       "mean          1.768307    11.072773  \n",
       "std           1.388621     8.948282  \n",
       "min           1.000000     2.500000  \n",
       "25%           1.000000     6.100000  \n",
       "50%           1.000000     8.500000  \n",
       "75%           2.000000    12.500000  \n",
       "max           6.000000    82.250000  "
      ]
     },
     "execution_count": 18,
     "metadata": {},
     "output_type": "execute_result"
    }
   ],
   "source": [
    "df_test.describe()"
   ]
  },
  {
   "cell_type": "markdown",
   "metadata": {},
   "source": [
    "Let's write out the three dataframes to appropriately named csv files. We can use these csv files for local training (recall that these files represent only 1/100,000 of the full dataset) until we get to point of using Dataflow and Cloud ML."
   ]
  },
  {
   "cell_type": "code",
   "execution_count": 19,
   "metadata": {
    "collapsed": false
   },
   "outputs": [
    {
     "data": {
      "text/html": [
       "\n",
       "          <script src=\"/static/components/requirejs/require.js\"></script>\n",
       "          <script>\n",
       "            requirejs.config({\n",
       "              paths: {\n",
       "                base: '/static/base',\n",
       "              },\n",
       "            });\n",
       "          </script>\n",
       "          "
      ],
      "text/plain": [
       "<IPython.core.display.HTML object>"
      ]
     },
     "metadata": {},
     "output_type": "display_data"
    },
    {
     "name": "stdout",
     "output_type": "stream",
     "text": [
      "['fare_amount', u'pickup_longitude', u'pickup_latitude', u'dropoff_longitude', u'dropoff_latitude', u'passenger_count', 'key']\n",
      "['fare_amount', u'pickup_longitude', u'pickup_latitude', u'dropoff_longitude', u'dropoff_latitude', u'passenger_count', 'key']\n",
      "['fare_amount', u'pickup_longitude', u'pickup_latitude', u'dropoff_longitude', u'dropoff_latitude', u'passenger_count', 'key']\n"
     ]
    }
   ],
   "source": [
    "def to_csv(df, filename):\n",
    "  outdf = df.copy(deep=False)\n",
    "  outdf.loc[:, 'key'] = np.arange(0, len(outdf)) # rownumber as key\n",
    "  # reorder columns so that target is first column\n",
    "  cols = outdf.columns.tolist()\n",
    "  cols.remove('fare_amount')\n",
    "  cols.insert(0, 'fare_amount')\n",
    "  print cols  # new order of columns\n",
    "  outdf = outdf[cols]\n",
    "  outdf.to_csv(filename, header=False, index_label=False, index=False)\n",
    "\n",
    "to_csv(df_train, 'taxi-train.csv')\n",
    "to_csv(df_valid, 'taxi-valid.csv')\n",
    "to_csv(df_test, 'taxi-test.csv')"
   ]
  },
  {
   "cell_type": "code",
   "execution_count": 20,
   "metadata": {
    "collapsed": false
   },
   "outputs": [
    {
     "data": {
      "text/html": [
       "\n",
       "          <script src=\"/static/components/requirejs/require.js\"></script>\n",
       "          <script>\n",
       "            requirejs.config({\n",
       "              paths: {\n",
       "                base: '/static/base',\n",
       "              },\n",
       "            });\n",
       "          </script>\n",
       "          "
      ],
      "text/plain": [
       "<IPython.core.display.HTML object>"
      ]
     },
     "metadata": {},
     "output_type": "display_data"
    },
    {
     "name": "stdout",
     "output_type": "stream",
     "text": [
      "8.9,-73.993988,40.729936,-73.974901,40.756134,1,0\r\n",
      "9.0,-73.986125,40.722382,-73.95943,40.711475,2,1\r\n",
      "7.5,-73.955607,40.779292,-73.972605,40.764437,1,2\r\n",
      "12.0,-73.967158,40.772232,-73.991385,40.748908,1,3\r\n",
      "12.1,-73.9888,40.7693,-73.9921,40.7518,1,4\r\n",
      "34.0,-74.00758,40.725799,-73.925059,40.861995,2,5\r\n",
      "7.0,-74.004777,40.741677,-74.005965,40.723812,6,6\r\n",
      "8.5,-73.977799,40.759593,-73.997637,40.745018,1,7\r\n",
      "5.5,-73.9562,40.799835,-73.96834,40.799946,1,8\r\n",
      "11.0,-73.984083,40.744017,-73.983894,40.725654,1,9\r\n"
     ]
    }
   ],
   "source": [
    "!head -10 taxi-valid.csv"
   ]
  },
  {
   "cell_type": "markdown",
   "metadata": {},
   "source": [
    "<h3> Verify that datasets exist </h3>"
   ]
  },
  {
   "cell_type": "code",
   "execution_count": 21,
   "metadata": {
    "collapsed": false
   },
   "outputs": [
    {
     "data": {
      "text/html": [
       "\n",
       "          <script src=\"/static/components/requirejs/require.js\"></script>\n",
       "          <script>\n",
       "            requirejs.config({\n",
       "              paths: {\n",
       "                base: '/static/base',\n",
       "              },\n",
       "            });\n",
       "          </script>\n",
       "          "
      ],
      "text/plain": [
       "<IPython.core.display.HTML object>"
      ]
     },
     "metadata": {},
     "output_type": "display_data"
    },
    {
     "name": "stdout",
     "output_type": "stream",
     "text": [
      "-rw-r--r-- 1 root root  88870 Nov  7 17:33 taxi-test.csv\r\n",
      "-rw-r--r-- 1 root root 417340 Nov  7 17:33 taxi-train.csv\r\n",
      "-rw-r--r-- 1 root root  88294 Nov  7 17:33 taxi-valid.csv\r\n"
     ]
    }
   ],
   "source": [
    "!ls -l *.csv"
   ]
  },
  {
   "cell_type": "markdown",
   "metadata": {},
   "source": [
    "We have 3 .csv files corresponding to train, valid, test.  The ratio of file-sizes correspond to our split of the data."
   ]
  },
  {
   "cell_type": "code",
   "execution_count": 22,
   "metadata": {
    "collapsed": false
   },
   "outputs": [
    {
     "data": {
      "text/html": [
       "\n",
       "          <script src=\"/static/components/requirejs/require.js\"></script>\n",
       "          <script>\n",
       "            requirejs.config({\n",
       "              paths: {\n",
       "                base: '/static/base',\n",
       "              },\n",
       "            });\n",
       "          </script>\n",
       "          "
      ],
      "text/plain": [
       "<IPython.core.display.HTML object>"
      ]
     },
     "metadata": {},
     "output_type": "display_data"
    },
    {
     "name": "stdout",
     "output_type": "stream",
     "text": [
      "4.5,-73.989532,40.735843,-73.989532,40.735843,1,0\n",
      "11.0,-74.006673,40.731115,-73.978787,40.728407,1,1\n",
      "10.5,-73.972894,40.76447,-73.940042,40.75123,2,2\n",
      "16.0,-73.96208,40.75928,-73.9845,40.72004,5,3\n",
      "7.3,-73.982313,40.776455,-73.977907,40.759987,1,4\n",
      "57.33,-74.009012,40.717487,-73.976377,40.739847,5,5\n",
      "5.7,-73.989492,40.75296,-73.981365,40.755043,1,6\n",
      "4.5,-73.981883,40.763799,-73.974229,40.760816,1,7\n",
      "8.9,-73.99196,40.749976,-73.971913,40.747252,2,8\n",
      "5.5,-73.985155,40.744955,-73.977125,40.7472,1,9\n"
     ]
    }
   ],
   "source": [
    "%bash\n",
    "head taxi-train.csv"
   ]
  },
  {
   "cell_type": "markdown",
   "metadata": {},
   "source": [
    "Looks good! We now have our ML datasets and are ready to train ML models, validate them and evaluate them."
   ]
  },
  {
   "cell_type": "markdown",
   "metadata": {},
   "source": [
    "<h3> Benchmark </h3>\n",
    "\n",
    "Before we start building complex ML models, it is a good idea to come up with a very simple model and use that as a benchmark.\n",
    "\n",
    "My model is going to be to simply divide the mean fare_amount by the mean trip_distance to come up with a rate and use that to predict.  Let's compute the RMSE of such a model."
   ]
  },
  {
   "cell_type": "code",
   "execution_count": 23,
   "metadata": {
    "collapsed": false
   },
   "outputs": [
    {
     "data": {
      "text/html": [
       "\n",
       "          <script src=\"/static/components/requirejs/require.js\"></script>\n",
       "          <script>\n",
       "            requirejs.config({\n",
       "              paths: {\n",
       "                base: '/static/base',\n",
       "              },\n",
       "            });\n",
       "          </script>\n",
       "          "
      ],
      "text/plain": [
       "<IPython.core.display.HTML object>"
      ]
     },
     "metadata": {},
     "output_type": "display_data"
    },
    {
     "name": "stdout",
     "output_type": "stream",
     "text": [
      "Rate = $2.58429290207/km\n",
      "Train RMSE = 5.67688688662\n",
      "Valid RMSE = 6.14923640452\n",
      "Test RMSE = 10.2673269043\n"
     ]
    }
   ],
   "source": [
    "import datalab.bigquery as bq\n",
    "import pandas as pd\n",
    "import numpy as np\n",
    "import shutil\n",
    "\n",
    "def distance_between(lat1, lon1, lat2, lon2):\n",
    "  # haversine formula to compute distance \"as the crow flies\".  Taxis can't fly of course.\n",
    "  dist = np.degrees(np.arccos(np.sin(np.radians(lat1)) * np.sin(np.radians(lat2)) + np.cos(np.radians(lat1)) * np.cos(np.radians(lat2)) * np.cos(np.radians(lon2 - lon1)))) * 60 * 1.515 * 1.609344\n",
    "  return dist\n",
    "\n",
    "def estimate_distance(df):\n",
    "  return distance_between(df['pickuplat'], df['pickuplon'], df['dropofflat'], df['dropofflon'])\n",
    "\n",
    "def compute_rmse(actual, predicted):\n",
    "  return np.sqrt(np.mean((actual-predicted)**2))\n",
    "\n",
    "def print_rmse(df, rate, name):\n",
    "  print \"{1} RMSE = {0}\".format(compute_rmse(df['fare_amount'], rate*estimate_distance(df)), name)\n",
    "\n",
    "FEATURES = ['pickuplon','pickuplat','dropofflon','dropofflat','passengers']\n",
    "TARGET = 'fare_amount'\n",
    "columns = list([TARGET])\n",
    "columns.extend(FEATURES) # in CSV, target is the first column, after the features\n",
    "columns.append('key')\n",
    "df_train = pd.read_csv('taxi-train.csv', header=None, names=columns)\n",
    "df_valid = pd.read_csv('taxi-valid.csv', header=None, names=columns)\n",
    "df_test = pd.read_csv('taxi-test.csv', header=None, names=columns)\n",
    "rate = df_train['fare_amount'].mean() / estimate_distance(df_train).mean()\n",
    "print \"Rate = ${0}/km\".format(rate)\n",
    "print_rmse(df_train, rate, 'Train')\n",
    "print_rmse(df_valid, rate, 'Valid') \n",
    "print_rmse(df_test, rate, 'Test') "
   ]
  },
  {
   "cell_type": "markdown",
   "metadata": {},
   "source": [
    "<h2>Benchmark on same dataset</h2>\n",
    "\n",
    "The RMSE depends on the dataset, and for comparison, we have to evaluate on the same dataset each time. We'll use this query in later labs:"
   ]
  },
  {
   "cell_type": "code",
   "execution_count": 25,
   "metadata": {
    "collapsed": false
   },
   "outputs": [
    {
     "data": {
      "text/html": [
       "\n",
       "          <script src=\"/static/components/requirejs/require.js\"></script>\n",
       "          <script>\n",
       "            requirejs.config({\n",
       "              paths: {\n",
       "                base: '/static/base',\n",
       "              },\n",
       "            });\n",
       "          </script>\n",
       "          "
      ],
      "text/plain": [
       "<IPython.core.display.HTML object>"
      ]
     },
     "metadata": {},
     "output_type": "display_data"
    },
    {
     "name": "stdout",
     "output_type": "stream",
     "text": [
      "Final Validation Set RMSE = 8.02608564676\n"
     ]
    },
    {
     "name": "stderr",
     "output_type": "stream",
     "text": [
      "/usr/local/lib/python2.7/dist-packages/ipykernel/__main__.py:8: RuntimeWarning: invalid value encountered in arccos\n"
     ]
    }
   ],
   "source": [
    "def create_query(phase, EVERY_N):\n",
    "  \"\"\"\n",
    "  phase: 1=train 2=valid\n",
    "  \"\"\"\n",
    "  base_query = \"\"\"\n",
    "SELECT\n",
    "  (tolls_amount + fare_amount) AS fare_amount,\n",
    "  CONCAT(STRING(pickup_datetime), STRING(pickup_longitude), STRING(pickup_latitude), STRING(dropoff_latitude), STRING(dropoff_longitude)) AS key,\n",
    "  DAYOFWEEK(pickup_datetime)*1.0 AS dayofweek,\n",
    "  HOUR(pickup_datetime)*1.0 AS hourofday,\n",
    "  pickup_longitude AS pickuplon,\n",
    "  pickup_latitude AS pickuplat,\n",
    "  dropoff_longitude AS dropofflon,\n",
    "  dropoff_latitude AS dropofflat,\n",
    "  passenger_count*1.0 AS passengers,\n",
    "FROM\n",
    "  [nyc-tlc:yellow.trips]\n",
    "WHERE\n",
    "  trip_distance > 0\n",
    "  AND fare_amount >= 2.5\n",
    "  AND pickup_longitude > -78\n",
    "  AND pickup_longitude < -70\n",
    "  AND dropoff_longitude > -78\n",
    "  AND dropoff_longitude < -70\n",
    "  AND pickup_latitude > 37\n",
    "  AND pickup_latitude < 45\n",
    "  AND dropoff_latitude > 37\n",
    "  AND dropoff_latitude < 45\n",
    "  AND passenger_count > 0\n",
    "  \"\"\"\n",
    "\n",
    "  if EVERY_N == None:\n",
    "    if phase < 2:\n",
    "      # training\n",
    "      query = \"{0} AND ABS(HASH(pickup_datetime)) % 4 < 2\".format(base_query)\n",
    "    else:\n",
    "      query = \"{0} AND ABS(HASH(pickup_datetime)) % 4 == {1}\".format(base_query, phase)\n",
    "  else:\n",
    "      query = \"{0} AND ABS(HASH(pickup_datetime)) % {1} == {2}\".format(base_query, EVERY_N, phase)\n",
    "    \n",
    "  return query\n",
    "\n",
    "query = create_query(2, 100000)\n",
    "df_valid = bq.Query(query).to_dataframe()\n",
    "print_rmse(df_valid, 2.56, 'Final Validation Set')"
   ]
  },
  {
   "cell_type": "markdown",
   "metadata": {},
   "source": [
    "The simple distance-based rule gives us a RMSE of <b>$8.03</b>.  We have to beat this, of course, but you will find that simple rules of thumb like this can be surprisingly difficult to beat.\n",
    "\n",
    "Let's be ambitious, though, and make our goal to build ML models that have a RMSE of less than $6 on the test set."
   ]
  },
  {
   "cell_type": "markdown",
   "metadata": {},
   "source": [
    "Copyright 2016 Google Inc.\n",
    "Licensed under the Apache License, Version 2.0 (the \"License\"); you may not use this file except in compliance with the License. You may obtain a copy of the License at\n",
    "http://www.apache.org/licenses/LICENSE-2.0\n",
    "Unless required by applicable law or agreed to in writing, software distributed under the License is distributed on an \"AS IS\" BASIS, WITHOUT WARRANTIES OR CONDITIONS OF ANY KIND, either express or implied. See the License for the specific language governing permissions and limitations under the License."
   ]
  }
 ],
 "metadata": {
  "kernelspec": {
   "display_name": "Python 2",
   "language": "python",
   "name": "python2"
  },
  "language_info": {
   "codemirror_mode": {
    "name": "ipython",
    "version": 2
   },
   "file_extension": ".py",
   "mimetype": "text/x-python",
   "name": "python",
   "nbconvert_exporter": "python",
   "pygments_lexer": "ipython2",
   "version": "2.7.12"
  }
 },
 "nbformat": 4,
 "nbformat_minor": 0
}
