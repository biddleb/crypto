{
 "cells": [
  {
   "cell_type": "markdown",
   "metadata": {},
   "source": [
    "# Assignment 4\n",
    "\n",
    "Before working on this assignment please read these instructions fully. In the submission area, you will notice that you can click the link to **Preview the Grading** for each step of the assignment. This is the criteria that will be used for peer grading. Please familiarize yourself with the criteria before beginning the assignment.\n",
    "\n",
    "This assignment requires that you to find **at least** two datasets on the web which are related, and that you visualize these datasets to answer a question with the broad topic of **weather phenomena** (see below) for the region of **Ann Arbor, Michigan, United States**, or **United States** more broadly.\n",
    "\n",
    "You can merge these datasets with data from different regions if you like! For instance, you might want to compare **Ann Arbor, Michigan, United States** to Ann Arbor, USA. In that case at least one source file must be about **Ann Arbor, Michigan, United States**.\n",
    "\n",
    "You are welcome to choose datasets at your discretion, but keep in mind **they will be shared with your peers**, so choose appropriate datasets. Sensitive, confidential, illicit, and proprietary materials are not good choices for datasets for this assignment. You are welcome to upload datasets of your own as well, and link to them using a third party repository such as github, bitbucket, pastebin, etc. Please be aware of the Coursera terms of service with respect to intellectual property.\n",
    "\n",
    "Also, you are welcome to preserve data in its original language, but for the purposes of grading you should provide english translations. You are welcome to provide multiple visuals in different languages if you would like!\n",
    "\n",
    "As this assignment is for the whole course, you must incorporate principles discussed in the first week, such as having as high data-ink ratio (Tufte) and aligning with Cairo’s principles of truth, beauty, function, and insight.\n",
    "\n",
    "Here are the assignment instructions:\n",
    "\n",
    " * State the region and the domain category that your data sets are about (e.g., **Ann Arbor, Michigan, United States** and **weather phenomena**).\n",
    " * You must state a question about the domain category and region that you identified as being interesting.\n",
    " * You must provide at least two links to available datasets. These could be links to files such as CSV or Excel files, or links to websites which might have data in tabular form, such as Wikipedia pages.\n",
    " * You must upload an image which addresses the research question you stated. In addition to addressing the question, this visual should follow Cairo's principles of truthfulness, functionality, beauty, and insightfulness.\n",
    " * You must contribute a short (1-2 paragraph) written justification of how your visualization addresses your stated research question.\n",
    "\n",
    "What do we mean by **weather phenomena**?  For this category you might want to consider seasonal changes, natural disasters, or historical trends.\n",
    "\n",
    "## Tips\n",
    "* Wikipedia is an excellent source of data, and I strongly encourage you to explore it for new data sources.\n",
    "* Many governments run open data initiatives at the city, region, and country levels, and these are wonderful resources for localized data sources.\n",
    "* Several international agencies, such as the [United Nations](http://data.un.org/), the [World Bank](http://data.worldbank.org/), the [Global Open Data Index](http://index.okfn.org/place/) are other great places to look for data.\n",
    "* This assignment requires you to convert and clean datafiles. Check out the discussion forums for tips on how to do this from various sources, and share your successes with your fellow students!\n",
    "\n",
    "## Example\n",
    "Looking for an example? Here's what our course assistant put together for the **Ann Arbor, MI, USA** area using **sports and athletics** as the topic. [Example Solution File](./readonly/Assignment4_example.pdf)"
   ]
  },
  {
   "cell_type": "code",
   "execution_count": null,
   "metadata": {
    "collapsed": false
   },
   "outputs": [],
   "source": [
    "# Does a relationship exist between weather patterns and music listening behavior?\n",
    "# \"The Sounds of Ann Arbor Michigan US\" playlist by The Sounds of Spotify\n",
    "# Get song attributes/features - https://developer.spotify.com/web-api/get-audio-features/\n"
   ]
  },
  {
   "cell_type": "code",
   "execution_count": null,
   "metadata": {
    "collapsed": false
   },
   "outputs": [],
   "source": [
    "import requests\n",
    "from datetime import datetime, timedelta, date\n",
    "import csv\n",
    "import pandas as pd\n",
    "import os\n",
    "\n",
    "def get_spotify_data(region,dates):\n",
    "    # Initialize the dataframe to store everything\n",
    "    expected_headers = ['Position', 'Track Name', 'Artist', 'Streams', 'URL']\n",
    "    headers = expected_headers + ['Region','Date']\n",
    "    df = pd.DataFrame(columns=headers)\n",
    "\n",
    "    for date in dates:\n",
    "        url = \"https://spotifycharts.com/regional/%s/daily/%s/download\" % (region, date.strftime('%Y-%m-%d'))\n",
    "        #print (\"Collecting from '%s' on %s\" % (region, date.strftime('%Y-%m-%d')))\n",
    "        try:\n",
    "            download = pd.read_csv(url)\n",
    "            if not set(list(download)) == set(expected_headers):\n",
    "                print (\"Download failed for '%s'\" % url)\n",
    "            else:\n",
    "                temp = download\n",
    "                temp['Region'] = region\n",
    "                temp['Date'] = date\n",
    "                df = pd.concat([df, temp], ignore_index=True)\n",
    "        except:\n",
    "            print (\"Error downloading '%s' on %s\" % (region, date.strftime('%Y-%m-%d')))\n",
    "            pass\n",
    "    return df"
   ]
  },
  {
   "cell_type": "code",
   "execution_count": null,
   "metadata": {
    "collapsed": false
   },
   "outputs": [],
   "source": [
    "# Sample period and regions\n",
    "region = 'us'\n",
    "start_date = date(2017, 1, 1)\n",
    "end_date = datetime.now().date() - (2*timedelta(days=1))\n",
    "dates = pd.date_range(start=start_date, end=end_date)\n",
    "\n",
    "# Create a dataframe from Spotify data and as a csv file or import previously saved csv\n",
    "data_directory = 'spotify_data'\n",
    "csv_name = \"spotify-us-%s-daily.csv\" % end_date.strftime('%Y%m%d')\n",
    "print(csv_name)\n",
    "file_path = os.path.join(data_directory, csv_name)\n",
    "\n",
    "if os.path.exists(file_path):\n",
    "    print (\"File '%s' already exists\" % file_path)\n",
    "    df = pd.read_csv(file_path, header=0, index_col=False)\n",
    "else:\n",
    "    print (\"Downloading Spotify data for '%s' from '%s' to '%s'\" % (region, start_date.strftime('%Y%m%d'), end_date.strftime('%Y%m%d')))\n",
    "    df = get_spotify_data(region,dates)\n",
    "    df.to_csv(file_path, sep=',', index=False)\n",
    "#print(df.groupby('Date').agg({'Position': 'count'}))"
   ]
  },
  {
   "cell_type": "code",
   "execution_count": 8,
   "metadata": {
    "collapsed": false
   },
   "outputs": [
    {
     "ename": "ImportError",
     "evalue": "No module named 'spotipy'",
     "output_type": "error",
     "traceback": [
      "\u001b[0;31m---------------------------------------------------------------------------\u001b[0m",
      "\u001b[0;31mImportError\u001b[0m                               Traceback (most recent call last)",
      "\u001b[0;32m<ipython-input-8-9809cf3b274a>\u001b[0m in \u001b[0;36m<module>\u001b[0;34m()\u001b[0m\n\u001b[0;32m----> 1\u001b[0;31m \u001b[0;32mimport\u001b[0m \u001b[0mspotipy\u001b[0m\u001b[0;34m\u001b[0m\u001b[0m\n\u001b[0m\u001b[1;32m      2\u001b[0m \u001b[0;32mfrom\u001b[0m \u001b[0mspotipy\u001b[0m\u001b[0;34m.\u001b[0m\u001b[0moauth2\u001b[0m \u001b[0;32mimport\u001b[0m \u001b[0mSpotifyClientCredentials\u001b[0m\u001b[0;34m\u001b[0m\u001b[0m\n\u001b[1;32m      3\u001b[0m \u001b[0;34m\u001b[0m\u001b[0m\n\u001b[1;32m      4\u001b[0m \u001b[0msp\u001b[0m \u001b[0;34m=\u001b[0m \u001b[0mspotipy\u001b[0m\u001b[0;34m.\u001b[0m\u001b[0mSpotify\u001b[0m\u001b[0;34m(\u001b[0m\u001b[0;34m)\u001b[0m\u001b[0;34m\u001b[0m\u001b[0m\n\u001b[1;32m      5\u001b[0m \u001b[0mspotClientID\u001b[0m \u001b[0;34m=\u001b[0m \u001b[0;34m'5dcfeddb014f4954a119e1a758cabaf6'\u001b[0m\u001b[0;34m\u001b[0m\u001b[0m\n",
      "\u001b[0;31mImportError\u001b[0m: No module named 'spotipy'"
     ]
    }
   ],
   "source": [
    "import spotipy \n",
    "from spotipy.oauth2 import SpotifyClientCredentials \n",
    "\n",
    "sp = spotipy.Spotify()\n",
    "spotClientID = '5dcfeddb014f4954a119e1a758cabaf6'\n",
    "spotSecret = 'd475ea17279b47489b8508b49d38fb2c'\n",
    "\n",
    "client_credentials_manager = SpotifyClientCredentials(client_id=cid, client_secret=secret) \n",
    "sp = spotipy.Spotify(client_credentials_manager=client_credentials_manager) \n",
    "sp.trace=False\n",
    "\n",
    "df['trackID'] = df['URL'].apply(lambda x: x.rsplit('/', 1)[-1])\n",
    "song_ids = df['trackID'].unique()\n",
    "print(song_ids[:10])\n",
    "\n",
    "df_feat = pd.DataFrame(sp.audio_features(song_ids))\n",
    "print (df_feat.head())"
   ]
  },
  {
   "cell_type": "code",
   "execution_count": null,
   "metadata": {
    "collapsed": true
   },
   "outputs": [],
   "source": [
    "\n",
    "\n",
    "lfmKey = '5206cd63167c6df382eca47bfbf8592a'\n",
    "lfmSecret = '6ae5d54324f42bcb5ad866a38a49d578'"
   ]
  }
 ],
 "metadata": {
  "kernelspec": {
   "display_name": "Python 3",
   "language": "python",
   "name": "python3"
  },
  "language_info": {
   "codemirror_mode": {
    "name": "ipython",
    "version": 3
   },
   "file_extension": ".py",
   "mimetype": "text/x-python",
   "name": "python",
   "nbconvert_exporter": "python",
   "pygments_lexer": "ipython3",
   "version": "3.5.2"
  }
 },
 "nbformat": 4,
 "nbformat_minor": 1
}
